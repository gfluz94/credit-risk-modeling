{
 "cells": [
  {
   "attachments": {},
   "cell_type": "markdown",
   "metadata": {},
   "source": [
    "### Final Credit Risk Assessment\n",
    "\n",
    "Once we have developed all models - PD, LGD and EAD - we can compute EL (Expected Loss) for the whole database."
   ]
  },
  {
   "attachments": {},
   "cell_type": "markdown",
   "metadata": {},
   "source": [
    "#### Packages"
   ]
  },
  {
   "cell_type": "code",
   "execution_count": 1,
   "metadata": {},
   "outputs": [],
   "source": [
    "import os\n",
    "import dill\n",
    "import numpy as np\n",
    "import pandas as pd"
   ]
  },
  {
   "attachments": {},
   "cell_type": "markdown",
   "metadata": {},
   "source": [
    "#### Importing data"
   ]
  },
  {
   "cell_type": "code",
   "execution_count": 2,
   "metadata": {},
   "outputs": [
    {
     "name": "stderr",
     "output_type": "stream",
     "text": [
      "/Users/gfluz94/.credit-risk/lib/python3.9/site-packages/IPython/core/interactiveshell.py:3442: DtypeWarning: Columns (20) have mixed types.Specify dtype option on import or set low_memory=False.\n",
      "  exec(code_obj, self.user_global_ns, self.user_ns)\n"
     ]
    }
   ],
   "source": [
    "df = pd.read_csv(\"../data/loan_data.csv\")"
   ]
  },
  {
   "attachments": {},
   "cell_type": "markdown",
   "metadata": {},
   "source": [
    "#### Importing model binaries"
   ]
  },
  {
   "cell_type": "code",
   "execution_count": 3,
   "metadata": {},
   "outputs": [
    {
     "name": "stdout",
     "output_type": "stream",
     "text": [
      "dict_keys(['ead_model', 'pd_preprocessing', 'pd_model', 'lgd_preprocessing', 'ead_preprocessing', 'cleaner', 'lgd_model'])\n"
     ]
    }
   ],
   "source": [
    "ARTIFACTS_PATH = \"../models/artifacts/\"\n",
    "artifacts = {}\n",
    "\n",
    "for artifact in os.listdir(ARTIFACTS_PATH):\n",
    "    artifact_name = artifact.split(\".\")[0]\n",
    "    with open(os.path.join(ARTIFACTS_PATH, artifact), \"rb\") as file:\n",
    "        artifacts[artifact_name] = dill.load(file)\n",
    "\n",
    "print(artifacts.keys())"
   ]
  },
  {
   "attachments": {},
   "cell_type": "markdown",
   "metadata": {},
   "source": [
    "#### General data cleaning"
   ]
  },
  {
   "cell_type": "code",
   "execution_count": 4,
   "metadata": {},
   "outputs": [],
   "source": [
    "df[\"earliest_cr_line\"] = df[\"earliest_cr_line\"].fillna(df[\"issue_d\"])\n",
    "df = artifacts[\"cleaner\"].transform(df)"
   ]
  },
  {
   "attachments": {},
   "cell_type": "markdown",
   "metadata": {},
   "source": [
    "#### PD Model"
   ]
  },
  {
   "cell_type": "code",
   "execution_count": 5,
   "metadata": {},
   "outputs": [],
   "source": [
    "df[\"PD\"] = artifacts[\"pd_model\"].predict_proba(artifacts[\"pd_preprocessing\"].transform(df))[:, 1]"
   ]
  },
  {
   "attachments": {},
   "cell_type": "markdown",
   "metadata": {},
   "source": [
    "#### LGD Model"
   ]
  },
  {
   "cell_type": "code",
   "execution_count": 6,
   "metadata": {},
   "outputs": [],
   "source": [
    "df[\"LGD\"] = 1.0 - np.clip(\n",
    "    artifacts[\"lgd_model\"].predict(\n",
    "        artifacts[\"lgd_preprocessing\"].transform(df).astype(float)\n",
    "    ), 0, 1\n",
    ")"
   ]
  },
  {
   "attachments": {},
   "cell_type": "markdown",
   "metadata": {},
   "source": [
    "#### EAD Model"
   ]
  },
  {
   "cell_type": "code",
   "execution_count": 7,
   "metadata": {},
   "outputs": [],
   "source": [
    "df[\"EAD\"] = np.clip(artifacts[\"ead_model\"].predict(\n",
    "    artifacts[\"ead_preprocessing\"].transform(df).astype(float)\n",
    "), 0, 1)"
   ]
  },
  {
   "attachments": {},
   "cell_type": "markdown",
   "metadata": {},
   "source": [
    "#### Estimating Expected Loss"
   ]
  },
  {
   "cell_type": "code",
   "execution_count": 8,
   "metadata": {},
   "outputs": [],
   "source": [
    "df[\"EL\"] = df[\"PD\"] * df[\"LGD\"] * df[\"EAD\"] * df[\"funded_amnt\"]"
   ]
  },
  {
   "cell_type": "code",
   "execution_count": 9,
   "metadata": {},
   "outputs": [
    {
     "name": "stdout",
     "output_type": "stream",
     "text": [
      "Total EL: $2.2 bn\n",
      "32.59%\n"
     ]
    }
   ],
   "source": [
    "expected_loss = df[\"EL\"].sum() / 1e9\n",
    "total_funded_amnt = df[\"funded_amnt\"].sum() / 1e9\n",
    "print(f\"Total EL: ${expected_loss:.1f} bn\")\n",
    "print(f\"{100 * expected_loss / total_funded_amnt:.2f}%\")"
   ]
  }
 ],
 "metadata": {
  "kernelspec": {
   "display_name": ".credit-risk",
   "language": "python",
   "name": "python3"
  },
  "language_info": {
   "codemirror_mode": {
    "name": "ipython",
    "version": 3
   },
   "file_extension": ".py",
   "mimetype": "text/x-python",
   "name": "python",
   "nbconvert_exporter": "python",
   "pygments_lexer": "ipython3",
   "version": "3.9.7"
  },
  "orig_nbformat": 4,
  "vscode": {
   "interpreter": {
    "hash": "3c5f5974d33210c1c5788d4128ca30f0fb4f95cfecbcad01169cd6bc1e53cbc1"
   }
  }
 },
 "nbformat": 4,
 "nbformat_minor": 2
}
