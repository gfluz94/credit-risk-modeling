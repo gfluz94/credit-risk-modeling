{
 "cells": [
  {
   "cell_type": "markdown",
   "id": "75b76573",
   "metadata": {},
   "source": [
    "## Credit Risk Modeling\n",
    "\n",
    "This notebook aims to come up with a general preprocessing, in order to adjust the data for further estimating **EL - Expected Loss** in the context of financial institutions that offer credit products.\n",
    "\n",
    "In order to achieve it, we will develop three models:\n",
    "\n",
    "* PD - Probability of Default;\n",
    "\n",
    "* LGD - Loss Given Default;\n",
    "\n",
    "* EAD - Exposure at Default.\n",
    "\n",
    "With all of these target variables properly estimated, computing EL is as straightforward as:\n",
    "\n",
    "$EL = PD \\times LGD \\times EAD$"
   ]
  },
  {
   "cell_type": "markdown",
   "id": "29e64e29",
   "metadata": {},
   "source": [
    "### Packages\n",
    "\n",
    "Here we are going to import some packages for the whole development, as well as our own package, so that we can iterate faster on its functionalities."
   ]
  },
  {
   "cell_type": "code",
   "execution_count": 1,
   "id": "dd573f4d",
   "metadata": {},
   "outputs": [],
   "source": [
    "from datetime import datetime\n",
    "\n",
    "import numpy as np\n",
    "import pandas as pd\n",
    "import matplotlib.pyplot as plt\n",
    "import seaborn as sns"
   ]
  },
  {
   "cell_type": "markdown",
   "id": "77469055",
   "metadata": {},
   "source": [
    "### Data\n",
    "\n",
    "For this particular study, we are going to use kaggle's Lending Club dataset.\n",
    "\n",
    "LendingClub is an American peer-to-peer lending company, headquartered in San Francisco, California. It was the first P2P lender to register its offerings as securities with the Securities and Exchange Commission (SEC), and to offer loan trading on a secondary market. LendingClub is the world's largest P2P lending platform."
   ]
  },
  {
   "cell_type": "code",
   "execution_count": 2,
   "id": "9d7f46d8",
   "metadata": {},
   "outputs": [
    {
     "name": "stderr",
     "output_type": "stream",
     "text": [
      "/Users/gfluz94/.credit-risk/lib/python3.9/site-packages/IPython/core/interactiveshell.py:3442: DtypeWarning: Columns (20) have mixed types.Specify dtype option on import or set low_memory=False.\n",
      "  exec(code_obj, self.user_global_ns, self.user_ns)\n"
     ]
    },
    {
     "data": {
      "text/html": [
       "<div>\n",
       "<style scoped>\n",
       "    .dataframe tbody tr th:only-of-type {\n",
       "        vertical-align: middle;\n",
       "    }\n",
       "\n",
       "    .dataframe tbody tr th {\n",
       "        vertical-align: top;\n",
       "    }\n",
       "\n",
       "    .dataframe thead th {\n",
       "        text-align: right;\n",
       "    }\n",
       "</style>\n",
       "<table border=\"1\" class=\"dataframe\">\n",
       "  <thead>\n",
       "    <tr style=\"text-align: right;\">\n",
       "      <th></th>\n",
       "      <th>id</th>\n",
       "      <th>member_id</th>\n",
       "      <th>loan_amnt</th>\n",
       "      <th>funded_amnt</th>\n",
       "      <th>funded_amnt_inv</th>\n",
       "      <th>term</th>\n",
       "      <th>int_rate</th>\n",
       "      <th>installment</th>\n",
       "      <th>grade</th>\n",
       "      <th>sub_grade</th>\n",
       "      <th>...</th>\n",
       "      <th>total_bal_il</th>\n",
       "      <th>il_util</th>\n",
       "      <th>open_rv_12m</th>\n",
       "      <th>open_rv_24m</th>\n",
       "      <th>max_bal_bc</th>\n",
       "      <th>all_util</th>\n",
       "      <th>total_rev_hi_lim</th>\n",
       "      <th>inq_fi</th>\n",
       "      <th>total_cu_tl</th>\n",
       "      <th>inq_last_12m</th>\n",
       "    </tr>\n",
       "  </thead>\n",
       "  <tbody>\n",
       "    <tr>\n",
       "      <th>0</th>\n",
       "      <td>1077501</td>\n",
       "      <td>1296599</td>\n",
       "      <td>5000</td>\n",
       "      <td>5000</td>\n",
       "      <td>4975.0</td>\n",
       "      <td>36 months</td>\n",
       "      <td>10.65</td>\n",
       "      <td>162.87</td>\n",
       "      <td>B</td>\n",
       "      <td>B2</td>\n",
       "      <td>...</td>\n",
       "      <td>NaN</td>\n",
       "      <td>NaN</td>\n",
       "      <td>NaN</td>\n",
       "      <td>NaN</td>\n",
       "      <td>NaN</td>\n",
       "      <td>NaN</td>\n",
       "      <td>NaN</td>\n",
       "      <td>NaN</td>\n",
       "      <td>NaN</td>\n",
       "      <td>NaN</td>\n",
       "    </tr>\n",
       "    <tr>\n",
       "      <th>1</th>\n",
       "      <td>1077430</td>\n",
       "      <td>1314167</td>\n",
       "      <td>2500</td>\n",
       "      <td>2500</td>\n",
       "      <td>2500.0</td>\n",
       "      <td>60 months</td>\n",
       "      <td>15.27</td>\n",
       "      <td>59.83</td>\n",
       "      <td>C</td>\n",
       "      <td>C4</td>\n",
       "      <td>...</td>\n",
       "      <td>NaN</td>\n",
       "      <td>NaN</td>\n",
       "      <td>NaN</td>\n",
       "      <td>NaN</td>\n",
       "      <td>NaN</td>\n",
       "      <td>NaN</td>\n",
       "      <td>NaN</td>\n",
       "      <td>NaN</td>\n",
       "      <td>NaN</td>\n",
       "      <td>NaN</td>\n",
       "    </tr>\n",
       "    <tr>\n",
       "      <th>2</th>\n",
       "      <td>1077175</td>\n",
       "      <td>1313524</td>\n",
       "      <td>2400</td>\n",
       "      <td>2400</td>\n",
       "      <td>2400.0</td>\n",
       "      <td>36 months</td>\n",
       "      <td>15.96</td>\n",
       "      <td>84.33</td>\n",
       "      <td>C</td>\n",
       "      <td>C5</td>\n",
       "      <td>...</td>\n",
       "      <td>NaN</td>\n",
       "      <td>NaN</td>\n",
       "      <td>NaN</td>\n",
       "      <td>NaN</td>\n",
       "      <td>NaN</td>\n",
       "      <td>NaN</td>\n",
       "      <td>NaN</td>\n",
       "      <td>NaN</td>\n",
       "      <td>NaN</td>\n",
       "      <td>NaN</td>\n",
       "    </tr>\n",
       "    <tr>\n",
       "      <th>3</th>\n",
       "      <td>1076863</td>\n",
       "      <td>1277178</td>\n",
       "      <td>10000</td>\n",
       "      <td>10000</td>\n",
       "      <td>10000.0</td>\n",
       "      <td>36 months</td>\n",
       "      <td>13.49</td>\n",
       "      <td>339.31</td>\n",
       "      <td>C</td>\n",
       "      <td>C1</td>\n",
       "      <td>...</td>\n",
       "      <td>NaN</td>\n",
       "      <td>NaN</td>\n",
       "      <td>NaN</td>\n",
       "      <td>NaN</td>\n",
       "      <td>NaN</td>\n",
       "      <td>NaN</td>\n",
       "      <td>NaN</td>\n",
       "      <td>NaN</td>\n",
       "      <td>NaN</td>\n",
       "      <td>NaN</td>\n",
       "    </tr>\n",
       "    <tr>\n",
       "      <th>4</th>\n",
       "      <td>1075358</td>\n",
       "      <td>1311748</td>\n",
       "      <td>3000</td>\n",
       "      <td>3000</td>\n",
       "      <td>3000.0</td>\n",
       "      <td>60 months</td>\n",
       "      <td>12.69</td>\n",
       "      <td>67.79</td>\n",
       "      <td>B</td>\n",
       "      <td>B5</td>\n",
       "      <td>...</td>\n",
       "      <td>NaN</td>\n",
       "      <td>NaN</td>\n",
       "      <td>NaN</td>\n",
       "      <td>NaN</td>\n",
       "      <td>NaN</td>\n",
       "      <td>NaN</td>\n",
       "      <td>NaN</td>\n",
       "      <td>NaN</td>\n",
       "      <td>NaN</td>\n",
       "      <td>NaN</td>\n",
       "    </tr>\n",
       "  </tbody>\n",
       "</table>\n",
       "<p>5 rows × 74 columns</p>\n",
       "</div>"
      ],
      "text/plain": [
       "        id  member_id  loan_amnt  funded_amnt  funded_amnt_inv        term  \\\n",
       "0  1077501    1296599       5000         5000           4975.0   36 months   \n",
       "1  1077430    1314167       2500         2500           2500.0   60 months   \n",
       "2  1077175    1313524       2400         2400           2400.0   36 months   \n",
       "3  1076863    1277178      10000        10000          10000.0   36 months   \n",
       "4  1075358    1311748       3000         3000           3000.0   60 months   \n",
       "\n",
       "   int_rate  installment grade sub_grade  ... total_bal_il il_util  \\\n",
       "0     10.65       162.87     B        B2  ...          NaN     NaN   \n",
       "1     15.27        59.83     C        C4  ...          NaN     NaN   \n",
       "2     15.96        84.33     C        C5  ...          NaN     NaN   \n",
       "3     13.49       339.31     C        C1  ...          NaN     NaN   \n",
       "4     12.69        67.79     B        B5  ...          NaN     NaN   \n",
       "\n",
       "  open_rv_12m  open_rv_24m max_bal_bc all_util total_rev_hi_lim inq_fi  \\\n",
       "0         NaN          NaN        NaN      NaN              NaN    NaN   \n",
       "1         NaN          NaN        NaN      NaN              NaN    NaN   \n",
       "2         NaN          NaN        NaN      NaN              NaN    NaN   \n",
       "3         NaN          NaN        NaN      NaN              NaN    NaN   \n",
       "4         NaN          NaN        NaN      NaN              NaN    NaN   \n",
       "\n",
       "  total_cu_tl inq_last_12m  \n",
       "0         NaN          NaN  \n",
       "1         NaN          NaN  \n",
       "2         NaN          NaN  \n",
       "3         NaN          NaN  \n",
       "4         NaN          NaN  \n",
       "\n",
       "[5 rows x 74 columns]"
      ]
     },
     "execution_count": 2,
     "metadata": {},
     "output_type": "execute_result"
    }
   ],
   "source": [
    "df = pd.read_csv(\"../data/loan_data.csv\", index_col=0)\n",
    "df.head()"
   ]
  },
  {
   "cell_type": "code",
   "execution_count": 3,
   "id": "d84c6b20",
   "metadata": {
    "scrolled": true
   },
   "outputs": [
    {
     "name": "stdout",
     "output_type": "stream",
     "text": [
      "<class 'pandas.core.frame.DataFrame'>\n",
      "Int64Index: 466285 entries, 0 to 466284\n",
      "Data columns (total 74 columns):\n",
      " #   Column                       Non-Null Count   Dtype  \n",
      "---  ------                       --------------   -----  \n",
      " 0   id                           466285 non-null  int64  \n",
      " 1   member_id                    466285 non-null  int64  \n",
      " 2   loan_amnt                    466285 non-null  int64  \n",
      " 3   funded_amnt                  466285 non-null  int64  \n",
      " 4   funded_amnt_inv              466285 non-null  float64\n",
      " 5   term                         466285 non-null  object \n",
      " 6   int_rate                     466285 non-null  float64\n",
      " 7   installment                  466285 non-null  float64\n",
      " 8   grade                        466285 non-null  object \n",
      " 9   sub_grade                    466285 non-null  object \n",
      " 10  emp_title                    438697 non-null  object \n",
      " 11  emp_length                   445277 non-null  object \n",
      " 12  home_ownership               466285 non-null  object \n",
      " 13  annual_inc                   466281 non-null  float64\n",
      " 14  verification_status          466285 non-null  object \n",
      " 15  issue_d                      466285 non-null  object \n",
      " 16  loan_status                  466285 non-null  object \n",
      " 17  pymnt_plan                   466285 non-null  object \n",
      " 18  url                          466285 non-null  object \n",
      " 19  desc                         125983 non-null  object \n",
      " 20  purpose                      466285 non-null  object \n",
      " 21  title                        466265 non-null  object \n",
      " 22  zip_code                     466285 non-null  object \n",
      " 23  addr_state                   466285 non-null  object \n",
      " 24  dti                          466285 non-null  float64\n",
      " 25  delinq_2yrs                  466256 non-null  float64\n",
      " 26  earliest_cr_line             466256 non-null  object \n",
      " 27  inq_last_6mths               466256 non-null  float64\n",
      " 28  mths_since_last_delinq       215934 non-null  float64\n",
      " 29  mths_since_last_record       62638 non-null   float64\n",
      " 30  open_acc                     466256 non-null  float64\n",
      " 31  pub_rec                      466256 non-null  float64\n",
      " 32  revol_bal                    466285 non-null  int64  \n",
      " 33  revol_util                   465945 non-null  float64\n",
      " 34  total_acc                    466256 non-null  float64\n",
      " 35  initial_list_status          466285 non-null  object \n",
      " 36  out_prncp                    466285 non-null  float64\n",
      " 37  out_prncp_inv                466285 non-null  float64\n",
      " 38  total_pymnt                  466285 non-null  float64\n",
      " 39  total_pymnt_inv              466285 non-null  float64\n",
      " 40  total_rec_prncp              466285 non-null  float64\n",
      " 41  total_rec_int                466285 non-null  float64\n",
      " 42  total_rec_late_fee           466285 non-null  float64\n",
      " 43  recoveries                   466285 non-null  float64\n",
      " 44  collection_recovery_fee      466285 non-null  float64\n",
      " 45  last_pymnt_d                 465909 non-null  object \n",
      " 46  last_pymnt_amnt              466285 non-null  float64\n",
      " 47  next_pymnt_d                 239071 non-null  object \n",
      " 48  last_credit_pull_d           466243 non-null  object \n",
      " 49  collections_12_mths_ex_med   466140 non-null  float64\n",
      " 50  mths_since_last_major_derog  98974 non-null   float64\n",
      " 51  policy_code                  466285 non-null  int64  \n",
      " 52  application_type             466285 non-null  object \n",
      " 53  annual_inc_joint             0 non-null       float64\n",
      " 54  dti_joint                    0 non-null       float64\n",
      " 55  verification_status_joint    0 non-null       float64\n",
      " 56  acc_now_delinq               466256 non-null  float64\n",
      " 57  tot_coll_amt                 396009 non-null  float64\n",
      " 58  tot_cur_bal                  396009 non-null  float64\n",
      " 59  open_acc_6m                  0 non-null       float64\n",
      " 60  open_il_6m                   0 non-null       float64\n",
      " 61  open_il_12m                  0 non-null       float64\n",
      " 62  open_il_24m                  0 non-null       float64\n",
      " 63  mths_since_rcnt_il           0 non-null       float64\n",
      " 64  total_bal_il                 0 non-null       float64\n",
      " 65  il_util                      0 non-null       float64\n",
      " 66  open_rv_12m                  0 non-null       float64\n",
      " 67  open_rv_24m                  0 non-null       float64\n",
      " 68  max_bal_bc                   0 non-null       float64\n",
      " 69  all_util                     0 non-null       float64\n",
      " 70  total_rev_hi_lim             396009 non-null  float64\n",
      " 71  inq_fi                       0 non-null       float64\n",
      " 72  total_cu_tl                  0 non-null       float64\n",
      " 73  inq_last_12m                 0 non-null       float64\n",
      "dtypes: float64(46), int64(6), object(22)\n",
      "memory usage: 266.8+ MB\n"
     ]
    }
   ],
   "source": [
    "df.info()"
   ]
  },
  {
   "cell_type": "markdown",
   "id": "9eaff754",
   "metadata": {},
   "source": [
    "#### Selecting columns\n",
    "\n",
    "We are not going to use all provided variables, but rather focus on the ones that might be useful for our predictions.\n",
    "\n",
    "Hence, we will select:\n",
    "\n",
    "* `id`: Loan's id;\n",
    "* `member_id`: Member that requested loan;\n",
    "* `loan_amnt`: Listed amount of the loan applied for by the borrower;\n",
    "* `funded_amnt`: Total ammount commited to that loan at a point in time;\n",
    "* `term`: Number of payments on the loan - either 36 or 60;\n",
    "* `int_rate`: Interest rate on the loan;\n",
    "* `installment`: Monthly payment owed by the borrower, if loan originates;\n",
    "* `grade`: Loan grade by external provider;\n",
    "* `emp_length`: Employment length, in years.\n",
    "* `home_ownership`: Home ownership status provided by the borrower during registration.\n",
    "* `annual_inc`: Self-reported annual income provided by the borrower during the registration.\n",
    "* `issue_d`: The month which the loan was funded.\n",
    "* `loan_status`: Current status of the loan - ourt target variable will come in play here.\n",
    "* `purpose`: A category provided by the borrower for the loan request.\n",
    "* `addr_state`: State provided by the borrower in the loan application.\n",
    "* `dti`: Ratio calculated using borrower's total monthly debt payments on the total debt obligations (excluding mortgages and requested loan) divided by borrower's self-reported monthly income.\n",
    "* `delinq_2yrs`: Number of 30+ days past-due incidences of delinquency in the borrower's credit file for the past 2 years.\n",
    "* `earliest_cr_line`: The month the borrower's earliest reported credit line was opened.\n",
    "* `verification_status`: Verification provided by LC.\n",
    "* `initial_list_status`: Initial listing status of the loan - W/F.\n",
    "* `inq_last_6mths`: Number of inquiries paid in last 6 months.\n",
    "* `open_acc`: Number of open credit lines in borrower's credit file.\n",
    "* `pub_rec`: Number of derogatory public records.\n",
    "* `total_acc`: Total number of credit lines in borrower's credit file.\n",
    "* `acc_now_delinq`: Number of accounts on which borrower is now delinquent.\n",
    "* `total_rev_hi_lim`: The revolving high credit limit."
   ]
  },
  {
   "cell_type": "code",
   "execution_count": 4,
   "id": "50a63819",
   "metadata": {},
   "outputs": [],
   "source": [
    "selected_cols = [\n",
    "    \"id\", \"member_id\", \"loan_amnt\", \"funded_amnt\", \"term\", \"int_rate\", \"installment\", \"grade\", \"emp_length\", \n",
    "    \"home_ownership\", \"annual_inc\", \"issue_d\", \"loan_status\", \"purpose\", \"addr_state\", \"dti\", \"delinq_2yrs\", \n",
    "    \"earliest_cr_line\", \"verification_status\", \"initial_list_status\", \"inq_last_6mths\", \"open_acc\", \"pub_rec\", \n",
    "    \"total_acc\", \"acc_now_delinq\", \"total_rev_hi_lim\"\n",
    "]"
   ]
  },
  {
   "cell_type": "code",
   "execution_count": 5,
   "id": "87834245",
   "metadata": {},
   "outputs": [
    {
     "data": {
      "text/html": [
       "<div>\n",
       "<style scoped>\n",
       "    .dataframe tbody tr th:only-of-type {\n",
       "        vertical-align: middle;\n",
       "    }\n",
       "\n",
       "    .dataframe tbody tr th {\n",
       "        vertical-align: top;\n",
       "    }\n",
       "\n",
       "    .dataframe thead th {\n",
       "        text-align: right;\n",
       "    }\n",
       "</style>\n",
       "<table border=\"1\" class=\"dataframe\">\n",
       "  <thead>\n",
       "    <tr style=\"text-align: right;\">\n",
       "      <th></th>\n",
       "      <th>id</th>\n",
       "      <th>member_id</th>\n",
       "      <th>loan_amnt</th>\n",
       "      <th>funded_amnt</th>\n",
       "      <th>term</th>\n",
       "      <th>int_rate</th>\n",
       "      <th>installment</th>\n",
       "      <th>grade</th>\n",
       "      <th>emp_length</th>\n",
       "      <th>home_ownership</th>\n",
       "      <th>...</th>\n",
       "      <th>delinq_2yrs</th>\n",
       "      <th>earliest_cr_line</th>\n",
       "      <th>verification_status</th>\n",
       "      <th>initial_list_status</th>\n",
       "      <th>inq_last_6mths</th>\n",
       "      <th>open_acc</th>\n",
       "      <th>pub_rec</th>\n",
       "      <th>total_acc</th>\n",
       "      <th>acc_now_delinq</th>\n",
       "      <th>total_rev_hi_lim</th>\n",
       "    </tr>\n",
       "  </thead>\n",
       "  <tbody>\n",
       "    <tr>\n",
       "      <th>0</th>\n",
       "      <td>1077501</td>\n",
       "      <td>1296599</td>\n",
       "      <td>5000</td>\n",
       "      <td>5000</td>\n",
       "      <td>36 months</td>\n",
       "      <td>10.65</td>\n",
       "      <td>162.87</td>\n",
       "      <td>B</td>\n",
       "      <td>10+ years</td>\n",
       "      <td>RENT</td>\n",
       "      <td>...</td>\n",
       "      <td>0.0</td>\n",
       "      <td>Jan-85</td>\n",
       "      <td>Verified</td>\n",
       "      <td>f</td>\n",
       "      <td>1.0</td>\n",
       "      <td>3.0</td>\n",
       "      <td>0.0</td>\n",
       "      <td>9.0</td>\n",
       "      <td>0.0</td>\n",
       "      <td>NaN</td>\n",
       "    </tr>\n",
       "    <tr>\n",
       "      <th>1</th>\n",
       "      <td>1077430</td>\n",
       "      <td>1314167</td>\n",
       "      <td>2500</td>\n",
       "      <td>2500</td>\n",
       "      <td>60 months</td>\n",
       "      <td>15.27</td>\n",
       "      <td>59.83</td>\n",
       "      <td>C</td>\n",
       "      <td>&lt; 1 year</td>\n",
       "      <td>RENT</td>\n",
       "      <td>...</td>\n",
       "      <td>0.0</td>\n",
       "      <td>Apr-99</td>\n",
       "      <td>Source Verified</td>\n",
       "      <td>f</td>\n",
       "      <td>5.0</td>\n",
       "      <td>3.0</td>\n",
       "      <td>0.0</td>\n",
       "      <td>4.0</td>\n",
       "      <td>0.0</td>\n",
       "      <td>NaN</td>\n",
       "    </tr>\n",
       "    <tr>\n",
       "      <th>2</th>\n",
       "      <td>1077175</td>\n",
       "      <td>1313524</td>\n",
       "      <td>2400</td>\n",
       "      <td>2400</td>\n",
       "      <td>36 months</td>\n",
       "      <td>15.96</td>\n",
       "      <td>84.33</td>\n",
       "      <td>C</td>\n",
       "      <td>10+ years</td>\n",
       "      <td>RENT</td>\n",
       "      <td>...</td>\n",
       "      <td>0.0</td>\n",
       "      <td>Nov-01</td>\n",
       "      <td>Not Verified</td>\n",
       "      <td>f</td>\n",
       "      <td>2.0</td>\n",
       "      <td>2.0</td>\n",
       "      <td>0.0</td>\n",
       "      <td>10.0</td>\n",
       "      <td>0.0</td>\n",
       "      <td>NaN</td>\n",
       "    </tr>\n",
       "    <tr>\n",
       "      <th>3</th>\n",
       "      <td>1076863</td>\n",
       "      <td>1277178</td>\n",
       "      <td>10000</td>\n",
       "      <td>10000</td>\n",
       "      <td>36 months</td>\n",
       "      <td>13.49</td>\n",
       "      <td>339.31</td>\n",
       "      <td>C</td>\n",
       "      <td>10+ years</td>\n",
       "      <td>RENT</td>\n",
       "      <td>...</td>\n",
       "      <td>0.0</td>\n",
       "      <td>Feb-96</td>\n",
       "      <td>Source Verified</td>\n",
       "      <td>f</td>\n",
       "      <td>1.0</td>\n",
       "      <td>10.0</td>\n",
       "      <td>0.0</td>\n",
       "      <td>37.0</td>\n",
       "      <td>0.0</td>\n",
       "      <td>NaN</td>\n",
       "    </tr>\n",
       "    <tr>\n",
       "      <th>4</th>\n",
       "      <td>1075358</td>\n",
       "      <td>1311748</td>\n",
       "      <td>3000</td>\n",
       "      <td>3000</td>\n",
       "      <td>60 months</td>\n",
       "      <td>12.69</td>\n",
       "      <td>67.79</td>\n",
       "      <td>B</td>\n",
       "      <td>1 year</td>\n",
       "      <td>RENT</td>\n",
       "      <td>...</td>\n",
       "      <td>0.0</td>\n",
       "      <td>Jan-96</td>\n",
       "      <td>Source Verified</td>\n",
       "      <td>f</td>\n",
       "      <td>0.0</td>\n",
       "      <td>15.0</td>\n",
       "      <td>0.0</td>\n",
       "      <td>38.0</td>\n",
       "      <td>0.0</td>\n",
       "      <td>NaN</td>\n",
       "    </tr>\n",
       "  </tbody>\n",
       "</table>\n",
       "<p>5 rows × 26 columns</p>\n",
       "</div>"
      ],
      "text/plain": [
       "        id  member_id  loan_amnt  funded_amnt        term  int_rate  \\\n",
       "0  1077501    1296599       5000         5000   36 months     10.65   \n",
       "1  1077430    1314167       2500         2500   60 months     15.27   \n",
       "2  1077175    1313524       2400         2400   36 months     15.96   \n",
       "3  1076863    1277178      10000        10000   36 months     13.49   \n",
       "4  1075358    1311748       3000         3000   60 months     12.69   \n",
       "\n",
       "   installment grade emp_length home_ownership  ...  delinq_2yrs  \\\n",
       "0       162.87     B  10+ years           RENT  ...          0.0   \n",
       "1        59.83     C   < 1 year           RENT  ...          0.0   \n",
       "2        84.33     C  10+ years           RENT  ...          0.0   \n",
       "3       339.31     C  10+ years           RENT  ...          0.0   \n",
       "4        67.79     B     1 year           RENT  ...          0.0   \n",
       "\n",
       "  earliest_cr_line verification_status initial_list_status inq_last_6mths  \\\n",
       "0           Jan-85            Verified                   f            1.0   \n",
       "1           Apr-99     Source Verified                   f            5.0   \n",
       "2           Nov-01        Not Verified                   f            2.0   \n",
       "3           Feb-96     Source Verified                   f            1.0   \n",
       "4           Jan-96     Source Verified                   f            0.0   \n",
       "\n",
       "   open_acc  pub_rec total_acc acc_now_delinq total_rev_hi_lim  \n",
       "0       3.0      0.0       9.0            0.0              NaN  \n",
       "1       3.0      0.0       4.0            0.0              NaN  \n",
       "2       2.0      0.0      10.0            0.0              NaN  \n",
       "3      10.0      0.0      37.0            0.0              NaN  \n",
       "4      15.0      0.0      38.0            0.0              NaN  \n",
       "\n",
       "[5 rows x 26 columns]"
      ]
     },
     "execution_count": 5,
     "metadata": {},
     "output_type": "execute_result"
    }
   ],
   "source": [
    "df = df.loc[:, selected_cols]\n",
    "df.head()"
   ]
  },
  {
   "cell_type": "code",
   "execution_count": 6,
   "id": "40b77837",
   "metadata": {
    "scrolled": true
   },
   "outputs": [
    {
     "name": "stdout",
     "output_type": "stream",
     "text": [
      "<class 'pandas.core.frame.DataFrame'>\n",
      "Int64Index: 466285 entries, 0 to 466284\n",
      "Data columns (total 26 columns):\n",
      " #   Column               Non-Null Count   Dtype  \n",
      "---  ------               --------------   -----  \n",
      " 0   id                   466285 non-null  int64  \n",
      " 1   member_id            466285 non-null  int64  \n",
      " 2   loan_amnt            466285 non-null  int64  \n",
      " 3   funded_amnt          466285 non-null  int64  \n",
      " 4   term                 466285 non-null  object \n",
      " 5   int_rate             466285 non-null  float64\n",
      " 6   installment          466285 non-null  float64\n",
      " 7   grade                466285 non-null  object \n",
      " 8   emp_length           445277 non-null  object \n",
      " 9   home_ownership       466285 non-null  object \n",
      " 10  annual_inc           466281 non-null  float64\n",
      " 11  issue_d              466285 non-null  object \n",
      " 12  loan_status          466285 non-null  object \n",
      " 13  purpose              466285 non-null  object \n",
      " 14  addr_state           466285 non-null  object \n",
      " 15  dti                  466285 non-null  float64\n",
      " 16  delinq_2yrs          466256 non-null  float64\n",
      " 17  earliest_cr_line     466256 non-null  object \n",
      " 18  verification_status  466285 non-null  object \n",
      " 19  initial_list_status  466285 non-null  object \n",
      " 20  inq_last_6mths       466256 non-null  float64\n",
      " 21  open_acc             466256 non-null  float64\n",
      " 22  pub_rec              466256 non-null  float64\n",
      " 23  total_acc            466256 non-null  float64\n",
      " 24  acc_now_delinq       466256 non-null  float64\n",
      " 25  total_rev_hi_lim     396009 non-null  float64\n",
      "dtypes: float64(11), int64(4), object(11)\n",
      "memory usage: 96.1+ MB\n"
     ]
    }
   ],
   "source": [
    "df.info()"
   ]
  },
  {
   "cell_type": "code",
   "execution_count": 7,
   "id": "6974a63b",
   "metadata": {},
   "outputs": [
    {
     "data": {
      "text/plain": [
       "id                         1077501\n",
       "member_id                  1296599\n",
       "loan_amnt                     5000\n",
       "funded_amnt                   5000\n",
       "term                     36 months\n",
       "int_rate                     10.65\n",
       "installment                 162.87\n",
       "grade                            B\n",
       "emp_length               10+ years\n",
       "home_ownership                RENT\n",
       "annual_inc                 24000.0\n",
       "issue_d                     Dec-11\n",
       "loan_status             Fully Paid\n",
       "purpose                credit_card\n",
       "addr_state                      AZ\n",
       "dti                          27.65\n",
       "delinq_2yrs                    0.0\n",
       "earliest_cr_line            Jan-85\n",
       "verification_status       Verified\n",
       "initial_list_status              f\n",
       "inq_last_6mths                 1.0\n",
       "open_acc                       3.0\n",
       "pub_rec                        0.0\n",
       "total_acc                      9.0\n",
       "acc_now_delinq                 0.0\n",
       "total_rev_hi_lim               NaN\n",
       "Name: 0, dtype: object"
      ]
     },
     "execution_count": 7,
     "metadata": {},
     "output_type": "execute_result"
    }
   ],
   "source": [
    "df.iloc[0]"
   ]
  },
  {
   "cell_type": "markdown",
   "id": "e22b90da",
   "metadata": {},
   "source": [
    "### Cleaning and Adjustments\n",
    "\n",
    "Some columns are not quite useful for us, given their data type or how the information is displayed.\n",
    "\n",
    "Hence, the first step we need to tackle is cleaning the data."
   ]
  },
  {
   "cell_type": "markdown",
   "id": "279403b4",
   "metadata": {},
   "source": [
    "+ `emp_length`"
   ]
  },
  {
   "cell_type": "code",
   "execution_count": 8,
   "id": "34b9cd55",
   "metadata": {},
   "outputs": [
    {
     "data": {
      "text/plain": [
       "10+ years    150049\n",
       "2 years       41373\n",
       "3 years       36596\n",
       "< 1 year      36265\n",
       "5 years       30774\n",
       "1 year        29622\n",
       "4 years       28023\n",
       "7 years       26180\n",
       "6 years       26112\n",
       "8 years       22395\n",
       "9 years       17888\n",
       "Name: emp_length, dtype: int64"
      ]
     },
     "execution_count": 8,
     "metadata": {},
     "output_type": "execute_result"
    }
   ],
   "source": [
    "df[\"emp_length\"].value_counts()"
   ]
  },
  {
   "cell_type": "code",
   "execution_count": 9,
   "id": "32b588cf",
   "metadata": {},
   "outputs": [],
   "source": [
    "df.loc[~df[\"emp_length\"].isnull(), \"emp_length\"] = (\n",
    "    df.loc[\n",
    "        ~df[\"emp_length\"].isnull(), \"emp_length\"\n",
    "    ].astype(str)\n",
    "     .str.extract(r\"([^(?:years?)]*)\").iloc[:, 0]\n",
    "     .str.replace(r\"10\\+\", str(10), regex=True)\n",
    "     .str.replace(r\"< 1\", str(0), regex=True)\n",
    "     .astype(int)\n",
    ")"
   ]
  },
  {
   "cell_type": "code",
   "execution_count": 10,
   "id": "5211347c",
   "metadata": {},
   "outputs": [
    {
     "data": {
      "text/plain": [
       "10    150049\n",
       "2      41373\n",
       "3      36596\n",
       "0      36265\n",
       "5      30774\n",
       "1      29622\n",
       "4      28023\n",
       "7      26180\n",
       "6      26112\n",
       "8      22395\n",
       "9      17888\n",
       "Name: emp_length, dtype: int64"
      ]
     },
     "execution_count": 10,
     "metadata": {},
     "output_type": "execute_result"
    }
   ],
   "source": [
    "df[\"emp_length\"].value_counts()"
   ]
  },
  {
   "cell_type": "markdown",
   "id": "603e1158",
   "metadata": {},
   "source": [
    "+ `term`"
   ]
  },
  {
   "cell_type": "code",
   "execution_count": 11,
   "id": "515d1cf0",
   "metadata": {},
   "outputs": [
    {
     "data": {
      "text/plain": [
       " 36 months    337953\n",
       " 60 months    128332\n",
       "Name: term, dtype: int64"
      ]
     },
     "execution_count": 11,
     "metadata": {},
     "output_type": "execute_result"
    }
   ],
   "source": [
    "df[\"term\"].value_counts()"
   ]
  },
  {
   "cell_type": "code",
   "execution_count": 12,
   "id": "a35293c5",
   "metadata": {},
   "outputs": [],
   "source": [
    "df.loc[:, \"term\"] = (\n",
    "    df.loc[\n",
    "        :, \"term\"\n",
    "    ].astype(str)\n",
    "     .str.extract(r\"(\\d+)\").iloc[:, 0]\n",
    "     .astype(int)\n",
    ")"
   ]
  },
  {
   "cell_type": "code",
   "execution_count": 13,
   "id": "c1aef7a7",
   "metadata": {},
   "outputs": [
    {
     "data": {
      "text/plain": [
       "36    337953\n",
       "60    128332\n",
       "Name: term, dtype: int64"
      ]
     },
     "execution_count": 13,
     "metadata": {},
     "output_type": "execute_result"
    }
   ],
   "source": [
    "df[\"term\"].value_counts()"
   ]
  },
  {
   "cell_type": "markdown",
   "id": "502f4a40",
   "metadata": {},
   "source": [
    "+ `issue_d`"
   ]
  },
  {
   "cell_type": "code",
   "execution_count": 14,
   "id": "8507dd9f",
   "metadata": {},
   "outputs": [
    {
     "data": {
      "text/plain": [
       "Oct-14    38782\n",
       "Jul-14    29306\n",
       "Nov-14    25054\n",
       "May-14    19099\n",
       "Apr-14    19071\n",
       "          ...  \n",
       "Aug-07       74\n",
       "Jul-07       63\n",
       "Sep-08       57\n",
       "Sep-07       53\n",
       "Jun-07       24\n",
       "Name: issue_d, Length: 91, dtype: int64"
      ]
     },
     "execution_count": 14,
     "metadata": {},
     "output_type": "execute_result"
    }
   ],
   "source": [
    "df[\"issue_d\"].value_counts()"
   ]
  },
  {
   "cell_type": "code",
   "execution_count": 15,
   "id": "b9539867",
   "metadata": {},
   "outputs": [],
   "source": [
    "df[\"issue_d\"] = pd.to_datetime(df[\"issue_d\"], format=\"%b-%y\")"
   ]
  },
  {
   "cell_type": "code",
   "execution_count": 16,
   "id": "4f04577e",
   "metadata": {},
   "outputs": [
    {
     "data": {
      "text/plain": [
       "2014-10-01    38782\n",
       "2014-07-01    29306\n",
       "2014-11-01    25054\n",
       "2014-05-01    19099\n",
       "2014-04-01    19071\n",
       "              ...  \n",
       "2007-08-01       74\n",
       "2007-07-01       63\n",
       "2008-09-01       57\n",
       "2007-09-01       53\n",
       "2007-06-01       24\n",
       "Name: issue_d, Length: 91, dtype: int64"
      ]
     },
     "execution_count": 16,
     "metadata": {},
     "output_type": "execute_result"
    }
   ],
   "source": [
    "df[\"issue_d\"].value_counts()"
   ]
  },
  {
   "cell_type": "markdown",
   "id": "05a11f0b",
   "metadata": {},
   "source": [
    "Datetime is still quite useless for us. Hence, it makes sense to convert it into months since issue date.\n",
    "\n",
    "`REFERENCE DATE: Dec-17`"
   ]
  },
  {
   "cell_type": "code",
   "execution_count": 17,
   "id": "c7cc3b87",
   "metadata": {},
   "outputs": [],
   "source": [
    "REFERENCE_DATE = datetime(2017, 12, 1)\n",
    "\n",
    "df[\"months_since_issue_date\"] = (REFERENCE_DATE - df[\"issue_d\"]) / np.timedelta64(1, 'M')"
   ]
  },
  {
   "cell_type": "code",
   "execution_count": 18,
   "id": "77a2731e",
   "metadata": {},
   "outputs": [
    {
     "data": {
      "text/plain": [
       "count    466285.000000\n",
       "mean         51.265176\n",
       "std          14.338664\n",
       "min          36.008953\n",
       "25%          41.035750\n",
       "50%          46.982484\n",
       "75%          57.036079\n",
       "max         126.031335\n",
       "Name: months_since_issue_date, dtype: float64"
      ]
     },
     "execution_count": 18,
     "metadata": {},
     "output_type": "execute_result"
    }
   ],
   "source": [
    "df[\"months_since_issue_date\"].describe()"
   ]
  },
  {
   "cell_type": "markdown",
   "id": "f0c7a94e",
   "metadata": {},
   "source": [
    "+ `earliest_cr_line`"
   ]
  },
  {
   "cell_type": "code",
   "execution_count": 19,
   "id": "b757d71b",
   "metadata": {},
   "outputs": [
    {
     "data": {
      "text/plain": [
       "Oct-00    3674\n",
       "Aug-00    3597\n",
       "Aug-01    3455\n",
       "Oct-99    3406\n",
       "Oct-01    3329\n",
       "Name: earliest_cr_line, dtype: int64"
      ]
     },
     "execution_count": 19,
     "metadata": {},
     "output_type": "execute_result"
    }
   ],
   "source": [
    "df[\"earliest_cr_line\"].value_counts().head()"
   ]
  },
  {
   "cell_type": "code",
   "execution_count": 20,
   "id": "3b7d8b97",
   "metadata": {},
   "outputs": [
    {
     "data": {
      "text/plain": [
       "2000-10-01    3674\n",
       "2000-08-01    3597\n",
       "2001-08-01    3455\n",
       "1999-10-01    3406\n",
       "2001-10-01    3329\n",
       "Name: earliest_cr_line, dtype: int64"
      ]
     },
     "execution_count": 20,
     "metadata": {},
     "output_type": "execute_result"
    }
   ],
   "source": [
    "df[\"earliest_cr_line\"] = pd.to_datetime(df[\"earliest_cr_line\"], format=\"%b-%y\")\n",
    "df[\"earliest_cr_line\"].value_counts().head()"
   ]
  },
  {
   "cell_type": "code",
   "execution_count": 21,
   "id": "5f42895f",
   "metadata": {},
   "outputs": [],
   "source": [
    "df[\"months_since_earliest_cr_line\"] = (REFERENCE_DATE - df[\"earliest_cr_line\"]) / np.timedelta64(1, 'M')"
   ]
  },
  {
   "cell_type": "code",
   "execution_count": 22,
   "id": "f2036846",
   "metadata": {},
   "outputs": [
    {
     "data": {
      "text/plain": [
       "count    466256.000000\n",
       "mean        239.495730\n",
       "std          93.976747\n",
       "min        -612.020781\n",
       "25%         183.001704\n",
       "50%         225.055956\n",
       "75%         285.048974\n",
       "max         586.985359\n",
       "Name: months_since_earliest_cr_line, dtype: float64"
      ]
     },
     "execution_count": 22,
     "metadata": {},
     "output_type": "execute_result"
    }
   ],
   "source": [
    "df[\"months_since_earliest_cr_line\"].describe()"
   ]
  },
  {
   "cell_type": "markdown",
   "id": "550855d5",
   "metadata": {},
   "source": [
    "It seems that we've got quite some negativa values - which does not make sense. Let's investigate it further..."
   ]
  },
  {
   "cell_type": "code",
   "execution_count": 23,
   "id": "2afd23b6",
   "metadata": {},
   "outputs": [
    {
     "data": {
      "text/plain": [
       "1580     2062-09-01\n",
       "1770     2068-09-01\n",
       "2799     2064-09-01\n",
       "3282     2067-09-01\n",
       "3359     2065-02-01\n",
       "            ...    \n",
       "464003   2068-01-01\n",
       "464260   2066-07-01\n",
       "465100   2067-10-01\n",
       "465500   2067-09-01\n",
       "465655   2056-01-01\n",
       "Name: earliest_cr_line, Length: 1169, dtype: datetime64[ns]"
      ]
     },
     "execution_count": 23,
     "metadata": {},
     "output_type": "execute_result"
    }
   ],
   "source": [
    "df.loc[df[\"months_since_earliest_cr_line\"] < 0, \"earliest_cr_line\"]"
   ]
  },
  {
   "cell_type": "markdown",
   "id": "54507295",
   "metadata": {},
   "source": [
    "It seems that, since datetime operations are based on UNIX time, it can only recognize 2-digit years from that point on, hence assigning years in the future for such data far in the past.\n",
    "\n",
    "Simple heuristics: **winsorizing** dates that go beyond that point."
   ]
  },
  {
   "cell_type": "code",
   "execution_count": 24,
   "id": "136fee45",
   "metadata": {},
   "outputs": [],
   "source": [
    "df.loc[df[\"months_since_earliest_cr_line\"] < 0, \"months_since_earliest_cr_line\"] = (\n",
    "    df[\"months_since_earliest_cr_line\"].max()\n",
    ")"
   ]
  },
  {
   "cell_type": "code",
   "execution_count": 25,
   "id": "c427e649",
   "metadata": {},
   "outputs": [
    {
     "data": {
      "text/plain": [
       "count    466256.000000\n",
       "mean        242.398646\n",
       "std          86.461715\n",
       "min          73.003552\n",
       "25%         184.020206\n",
       "50%         225.975893\n",
       "75%         285.048974\n",
       "max         586.985359\n",
       "Name: months_since_earliest_cr_line, dtype: float64"
      ]
     },
     "execution_count": 25,
     "metadata": {},
     "output_type": "execute_result"
    }
   ],
   "source": [
    "df[\"months_since_earliest_cr_line\"].describe()"
   ]
  },
  {
   "cell_type": "markdown",
   "id": "010858b2",
   "metadata": {},
   "source": [
    "*Exporting data*"
   ]
  },
  {
   "cell_type": "code",
   "execution_count": null,
   "id": "5a04b0f1",
   "metadata": {},
   "outputs": [],
   "source": [
    "df.to_csv(\"../data/loan_data_cleaned.csv\", index=False)"
   ]
  }
 ],
 "metadata": {
  "kernelspec": {
   "display_name": "Python 3 (ipykernel)",
   "language": "python",
   "name": "python3"
  },
  "language_info": {
   "codemirror_mode": {
    "name": "ipython",
    "version": 3
   },
   "file_extension": ".py",
   "mimetype": "text/x-python",
   "name": "python",
   "nbconvert_exporter": "python",
   "pygments_lexer": "ipython3",
   "version": "3.9.7"
  }
 },
 "nbformat": 4,
 "nbformat_minor": 5
}
