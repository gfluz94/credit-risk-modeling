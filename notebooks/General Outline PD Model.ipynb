{
 "cells": [
  {
   "cell_type": "markdown",
   "id": "b904a994",
   "metadata": {},
   "source": [
    "## PD - Probability of Default\n",
    "\n",
    "This notebook aims to come up with a general methodology for selecting features for PD model - as well as for finding the best categories for the features."
   ]
  },
  {
   "cell_type": "code",
   "execution_count": 1,
   "id": "5d5db4f8",
   "metadata": {},
   "outputs": [],
   "source": [
    "from datetime import datetime\n",
    "import pandas as pd\n",
    "import numpy as np\n",
    "\n",
    "from sklearn.model_selection import train_test_split\n",
    "\n",
    "from credit_risk_modeling.cleaning import DatetimeConverter, NumericExtractor\n",
    "from credit_risk_modeling.feature_engineering import TimeSinceCalculator, OHECategoriesCreator\n",
    "from credit_risk_modeling.eda import compute_woe, plot_woe_by_category"
   ]
  },
  {
   "cell_type": "markdown",
   "id": "7aa65534",
   "metadata": {},
   "source": [
    "#### Get data and select columns"
   ]
  },
  {
   "cell_type": "code",
   "execution_count": 2,
   "id": "541afdc5",
   "metadata": {},
   "outputs": [],
   "source": [
    "selected_cols = [\n",
    "    \"id\", \"member_id\", \"loan_amnt\", \"funded_amnt\", \"term\", \"int_rate\", \"installment\", \"grade\", \"emp_length\", \n",
    "    \"home_ownership\", \"annual_inc\", \"issue_d\", \"loan_status\", \"purpose\", \"addr_state\", \"dti\", \"delinq_2yrs\", \n",
    "    \"earliest_cr_line\", \"verification_status\", \"initial_list_status\", \"inq_last_6mths\", \"open_acc\", \"pub_rec\", \n",
    "    \"total_acc\", \"acc_now_delinq\", \"total_rev_hi_lim\"\n",
    "]"
   ]
  },
  {
   "cell_type": "code",
   "execution_count": 3,
   "id": "5f5b4efe",
   "metadata": {},
   "outputs": [
    {
     "name": "stderr",
     "output_type": "stream",
     "text": [
      "/Users/gfluz94/.credit-risk/lib/python3.9/site-packages/IPython/core/interactiveshell.py:3442: DtypeWarning: Columns (20) have mixed types.Specify dtype option on import or set low_memory=False.\n",
      "  exec(code_obj, self.user_global_ns, self.user_ns)\n"
     ]
    }
   ],
   "source": [
    "df = pd.read_csv(\"../data/loan_data.csv\")\n",
    "df = df.loc[:, selected_cols]"
   ]
  },
  {
   "attachments": {},
   "cell_type": "markdown",
   "id": "8ff3034a",
   "metadata": {},
   "source": [
    "#### Clean, Preprocess and Create Features"
   ]
  },
  {
   "cell_type": "code",
   "execution_count": 4,
   "id": "846ecde3",
   "metadata": {},
   "outputs": [],
   "source": [
    "datetime_cols = [\"earliest_cr_line\", \"issue_d\"]\n",
    "datetime_format = \"%b-%y\"\n",
    "time_unit = \"month\"\n",
    "reference_date = datetime(2017, 12, 1)\n",
    "\n",
    "datetime_converter = DatetimeConverter(\n",
    "    field_names=datetime_cols,\n",
    "    datetime_format=datetime_format\n",
    ")\n",
    "df = datetime_converter.transform(df)\n",
    "\n",
    "for datetime_col in datetime_cols:\n",
    "    time_since_calculator = TimeSinceCalculator(\n",
    "        field_name=datetime_col, reference_date=reference_date, time_unit=time_unit, winsorize_max=True,\n",
    "    )\n",
    "    df = time_since_calculator.transform(df)"
   ]
  },
  {
   "attachments": {},
   "cell_type": "markdown",
   "id": "8e7c2e86",
   "metadata": {},
   "source": [
    "In order for us to continue with the analysis, we just need to carry out two additional steps:\n",
    "\n",
    "* Define target variable"
   ]
  },
  {
   "cell_type": "code",
   "execution_count": 5,
   "id": "2c8b4520",
   "metadata": {},
   "outputs": [
    {
     "data": {
      "text/plain": [
       "0.0    89.07%\n",
       "1.0    10.93%\n",
       "Name: default, dtype: object"
      ]
     },
     "execution_count": 5,
     "metadata": {},
     "output_type": "execute_result"
    }
   ],
   "source": [
    "DEFAULT_CATEGORIES = [\n",
    "    \"Charged Off\",\n",
    "    \"Late (31-120 days)\",\n",
    "    \"Default\",\n",
    "    \"Does not meet the credit policy. Status:Charged Off\"\n",
    "]\n",
    "TARGET_VARIABLE = \"default\"\n",
    "\n",
    "df[TARGET_VARIABLE] = df[\"loan_status\"].isin(DEFAULT_CATEGORIES).astype(float)\n",
    "(df[TARGET_VARIABLE].value_counts() / len(df)).apply(lambda x: f\"{100*x:.2f}%\")"
   ]
  },
  {
   "attachments": {},
   "cell_type": "markdown",
   "id": "bace338a",
   "metadata": {},
   "source": [
    "* Split our dataset into training and test, so that we avoid data leakage at all costs."
   ]
  },
  {
   "cell_type": "code",
   "execution_count": 6,
   "id": "f33c200a",
   "metadata": {},
   "outputs": [],
   "source": [
    "df_train, df_test = train_test_split(df, test_size=0.20, random_state=99, stratify=df[TARGET_VARIABLE])"
   ]
  },
  {
   "attachments": {},
   "cell_type": "markdown",
   "id": "518f9552",
   "metadata": {},
   "source": [
    "#### Categorical Features\n",
    "\n",
    "It is time for us now to take a closer look at categorical variables and, according to WoE analysis, select the best categories for each feature.\n",
    "\n",
    "We are going to analyze the following variables:\n",
    "\n",
    "* `grade`\n",
    "* `home_ownership`\n",
    "* `addr_state`\n",
    "* `verification_status`\n",
    "* `purpose`\n",
    "* `initial_list_status`"
   ]
  },
  {
   "cell_type": "code",
   "execution_count": 7,
   "id": "c1b5193a",
   "metadata": {},
   "outputs": [],
   "source": [
    "transformers = []"
   ]
  },
  {
   "attachments": {},
   "cell_type": "markdown",
   "id": "bbe723e7",
   "metadata": {},
   "source": [
    "1. `grade`"
   ]
  },
  {
   "cell_type": "code",
   "execution_count": 8,
   "id": "a6099f1b",
   "metadata": {},
   "outputs": [],
   "source": [
    "variable = \"grade\""
   ]
  },
  {
   "cell_type": "code",
   "execution_count": 9,
   "id": "2aba2b1a",
   "metadata": {},
   "outputs": [
    {
     "name": "stdout",
     "output_type": "stream",
     "text": [
      "0.00% missing!\n",
      "\n",
      "\n",
      "B    109603\n",
      "C    100372\n",
      "D     61548\n",
      "A     59796\n",
      "E     28514\n",
      "F     10502\n",
      "G      2693\n",
      "Name: grade, dtype: int64\n"
     ]
    }
   ],
   "source": [
    "print(f\"{100*df_train[variable].isnull().mean():.2f}% missing!\\n\\n\")\n",
    "print(df_train[variable].value_counts())"
   ]
  },
  {
   "cell_type": "code",
   "execution_count": 10,
   "id": "1fd258a4",
   "metadata": {},
   "outputs": [
    {
     "data": {
      "text/html": [
       "<div>\n",
       "<style scoped>\n",
       "    .dataframe tbody tr th:only-of-type {\n",
       "        vertical-align: middle;\n",
       "    }\n",
       "\n",
       "    .dataframe tbody tr th {\n",
       "        vertical-align: top;\n",
       "    }\n",
       "\n",
       "    .dataframe thead th {\n",
       "        text-align: right;\n",
       "    }\n",
       "</style>\n",
       "<table border=\"1\" class=\"dataframe\">\n",
       "  <thead>\n",
       "    <tr style=\"text-align: right;\">\n",
       "      <th></th>\n",
       "      <th>Non-Default</th>\n",
       "      <th>Default</th>\n",
       "      <th>Total Obs</th>\n",
       "      <th>% Non-Default</th>\n",
       "      <th>% Default</th>\n",
       "      <th>WoE</th>\n",
       "      <th>IV</th>\n",
       "    </tr>\n",
       "    <tr>\n",
       "      <th>grade</th>\n",
       "      <th></th>\n",
       "      <th></th>\n",
       "      <th></th>\n",
       "      <th></th>\n",
       "      <th></th>\n",
       "      <th></th>\n",
       "      <th></th>\n",
       "    </tr>\n",
       "  </thead>\n",
       "  <tbody>\n",
       "    <tr>\n",
       "      <th>A</th>\n",
       "      <td>57506</td>\n",
       "      <td>2290</td>\n",
       "      <td>59796</td>\n",
       "      <td>0.173078</td>\n",
       "      <td>0.056163</td>\n",
       "      <td>-1.125482</td>\n",
       "      <td>0.29095</td>\n",
       "    </tr>\n",
       "    <tr>\n",
       "      <th>B</th>\n",
       "      <td>100983</td>\n",
       "      <td>8620</td>\n",
       "      <td>109603</td>\n",
       "      <td>0.303933</td>\n",
       "      <td>0.211409</td>\n",
       "      <td>-0.363012</td>\n",
       "      <td>0.29095</td>\n",
       "    </tr>\n",
       "    <tr>\n",
       "      <th>C</th>\n",
       "      <td>88788</td>\n",
       "      <td>11584</td>\n",
       "      <td>100372</td>\n",
       "      <td>0.267229</td>\n",
       "      <td>0.284103</td>\n",
       "      <td>0.061228</td>\n",
       "      <td>0.29095</td>\n",
       "    </tr>\n",
       "    <tr>\n",
       "      <th>D</th>\n",
       "      <td>52076</td>\n",
       "      <td>9472</td>\n",
       "      <td>61548</td>\n",
       "      <td>0.156736</td>\n",
       "      <td>0.232305</td>\n",
       "      <td>0.393491</td>\n",
       "      <td>0.29095</td>\n",
       "    </tr>\n",
       "    <tr>\n",
       "      <th>E</th>\n",
       "      <td>22981</td>\n",
       "      <td>5533</td>\n",
       "      <td>28514</td>\n",
       "      <td>0.069167</td>\n",
       "      <td>0.135699</td>\n",
       "      <td>0.673917</td>\n",
       "      <td>0.29095</td>\n",
       "    </tr>\n",
       "    <tr>\n",
       "      <th>F</th>\n",
       "      <td>7960</td>\n",
       "      <td>2542</td>\n",
       "      <td>10502</td>\n",
       "      <td>0.023958</td>\n",
       "      <td>0.062344</td>\n",
       "      <td>0.956377</td>\n",
       "      <td>0.29095</td>\n",
       "    </tr>\n",
       "    <tr>\n",
       "      <th>G</th>\n",
       "      <td>1960</td>\n",
       "      <td>733</td>\n",
       "      <td>2693</td>\n",
       "      <td>0.005899</td>\n",
       "      <td>0.017977</td>\n",
       "      <td>1.114301</td>\n",
       "      <td>0.29095</td>\n",
       "    </tr>\n",
       "  </tbody>\n",
       "</table>\n",
       "</div>"
      ],
      "text/plain": [
       "       Non-Default  Default  Total Obs  % Non-Default  % Default       WoE  \\\n",
       "grade                                                                        \n",
       "A            57506     2290      59796       0.173078   0.056163 -1.125482   \n",
       "B           100983     8620     109603       0.303933   0.211409 -0.363012   \n",
       "C            88788    11584     100372       0.267229   0.284103  0.061228   \n",
       "D            52076     9472      61548       0.156736   0.232305  0.393491   \n",
       "E            22981     5533      28514       0.069167   0.135699  0.673917   \n",
       "F             7960     2542      10502       0.023958   0.062344  0.956377   \n",
       "G             1960      733       2693       0.005899   0.017977  1.114301   \n",
       "\n",
       "            IV  \n",
       "grade           \n",
       "A      0.29095  \n",
       "B      0.29095  \n",
       "C      0.29095  \n",
       "D      0.29095  \n",
       "E      0.29095  \n",
       "F      0.29095  \n",
       "G      0.29095  "
      ]
     },
     "execution_count": 10,
     "metadata": {},
     "output_type": "execute_result"
    }
   ],
   "source": [
    "woe_df = compute_woe(\n",
    "    df=df_train,\n",
    "    id_column_name=\"id\",\n",
    "    feature_column_name=variable,\n",
    "    target_column_name=TARGET_VARIABLE,\n",
    ")\n",
    "woe_df"
   ]
  },
  {
   "cell_type": "code",
   "execution_count": 11,
   "id": "29ded8a5",
   "metadata": {},
   "outputs": [
    {
     "data": {
      "image/png": "[encoded data removed]",
      "text/plain": [
       "<Figure size 1000x500 with 1 Axes>"
      ]
     },
     "metadata": {
      "image/png": {
       "height": 448,
       "width": 858
      }
     },
     "output_type": "display_data"
    }
   ],
   "source": [
    "plot_woe_by_category(woe_df)"
   ]
  },
  {
   "attachments": {},
   "cell_type": "markdown",
   "id": "0f080c4c",
   "metadata": {},
   "source": [
    "Based on the analysis above, we are going to keep the current seven categories (A -> G). We can notice that the curve almost increases monotonically, from A to G, meaning that A is the best score and G is the worst one."
   ]
  },
  {
   "cell_type": "code",
   "execution_count": 15,
   "id": "051d3271",
   "metadata": {},
   "outputs": [],
   "source": [
    "final_categories = {\n",
    "    \"A\": [\"A\"],\n",
    "    \"B\": [\"B\"],\n",
    "    \"C\": [\"C\"],\n",
    "    \"D\": [\"D\"],\n",
    "    \"E\": [\"E\"],\n",
    "    \"F\": [\"F\"],\n",
    "    \"G\": [\"G\"],\n",
    "}\n",
    "\n",
    "grade_ohe = OHECategoriesCreator(field_name=variable, final_categories_dict=final_categories)\n",
    "df_train = grade_ohe.fit_transform(df_train)\n",
    "transformers.append(grade_ohe)"
   ]
  }
 ],
 "metadata": {
  "kernelspec": {
   "display_name": ".credit-risk",
   "language": "python",
   "name": "python3"
  },
  "language_info": {
   "codemirror_mode": {
    "name": "ipython",
    "version": 3
   },
   "file_extension": ".py",
   "mimetype": "text/x-python",
   "name": "python",
   "nbconvert_exporter": "python",
   "pygments_lexer": "ipython3",
   "version": "3.9.7"
  },
  "vscode": {
   "interpreter": {
    "hash": "3c5f5974d33210c1c5788d4128ca30f0fb4f95cfecbcad01169cd6bc1e53cbc1"
   }
  }
 },
 "nbformat": 4,
 "nbformat_minor": 5
}
